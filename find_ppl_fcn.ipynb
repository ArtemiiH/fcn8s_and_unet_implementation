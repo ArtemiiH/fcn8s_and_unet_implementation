{
 "cells": [
  {
   "cell_type": "markdown",
   "metadata": {
    "colab_type": "text",
    "id": "NzlBqV5UnZgL"
   },
   "source": [
    "# Find ppl"
   ]
  },
  {
   "cell_type": "markdown",
   "metadata": {
    "colab_type": "text",
    "id": "fJt0Sgp0iJlS"
   },
   "source": [
    "## Download data (for colab)"
   ]
  },
  {
   "cell_type": "code",
   "execution_count": null,
   "metadata": {
    "colab": {
     "base_uri": "https://localhost:8080/",
     "height": 124
    },
    "colab_type": "code",
    "executionInfo": {
     "elapsed": 34438,
     "status": "ok",
     "timestamp": 1585175422272,
     "user": {
      "displayName": "Artemii Hrynevych",
      "photoUrl": "",
      "userId": "14959627850670217828"
     },
     "user_tz": -60
    },
    "id": "_qJTAAuzgxJt",
    "outputId": "bd546794-cdd4-48a1-9bb6-1a560cda2a66"
   },
   "outputs": [],
   "source": [
    "# from google.colab import auth\n",
    "# auth.authenticate_user()\n",
    "from google.colab import drive\n",
    "drive.mount('/content/drive', force_remount=True)"
   ]
  },
  {
   "cell_type": "code",
   "execution_count": null,
   "metadata": {
    "colab": {
     "base_uri": "https://localhost:8080/",
     "height": 819
    },
    "colab_type": "code",
    "executionInfo": {
     "elapsed": 57397,
     "status": "ok",
     "timestamp": 1585175445239,
     "user": {
      "displayName": "Artemii Hrynevych",
      "photoUrl": "",
      "userId": "14959627850670217828"
     },
     "user_tz": -60
    },
    "id": "85paz6j8gyjw",
    "outputId": "cc3b5f46-d380-4820-8f42-454940479aea"
   },
   "outputs": [],
   "source": [
    "!wget http://images.cocodataset.org/annotations/annotations_trainval2017.zip\n",
    "!unzip annotations_trainval2017.zip\n",
    "!rm annotations_trainval2017.zip\n",
    "!cp -r /content/drive/My\\ Drive/scripts ./scripts\n",
    "!python3 -m pip install aiofiles aiohttp pycocotools aiohttp[speedups] yarl==1.2.6\n"
   ]
  },
  {
   "cell_type": "code",
   "execution_count": null,
   "metadata": {
    "colab": {
     "base_uri": "https://localhost:8080/",
     "height": 295
    },
    "colab_type": "code",
    "executionInfo": {
     "elapsed": 196846,
     "status": "ok",
     "timestamp": 1585175584697,
     "user": {
      "displayName": "Artemii Hrynevych",
      "photoUrl": "",
      "userId": "14959627850670217828"
     },
     "user_tz": -60
    },
    "id": "oyd77Wgigym0",
    "outputId": "e99446b0-4389-46f7-bf3e-4f5ddd8886e2"
   },
   "outputs": [],
   "source": [
    "!python3 ./scripts/async_gather_data.py \\\n",
    "    --anns_path ./annotations/instances_train2017.json \\\n",
    "    --img_dst ./images/train \\\n",
    "    --mask_dst ./masks/train\n",
    "!python3 ./scripts/async_gather_data.py \\\n",
    "    --anns_path ./annotations/instances_val2017.json \\\n",
    "    --img_dst ./images/val \\\n",
    "    --mask_dst ./masks/val\n"
   ]
  },
  {
   "cell_type": "code",
   "execution_count": null,
   "metadata": {
    "colab": {
     "base_uri": "https://localhost:8080/",
     "height": 52
    },
    "colab_type": "code",
    "executionInfo": {
     "elapsed": 199874,
     "status": "ok",
     "timestamp": 1585175587732,
     "user": {
      "displayName": "Artemii Hrynevych",
      "photoUrl": "",
      "userId": "14959627850670217828"
     },
     "user_tz": -60
    },
    "id": "FZWvPEh6VhZZ",
    "outputId": "0f352dd7-f450-4aea-eb77-aae284fca17d"
   },
   "outputs": [],
   "source": [
    "!rm ./images/train/000000123473.jpg\n",
    "!rm ./masks/train/000000123473.png"
   ]
  },
  {
   "cell_type": "code",
   "execution_count": null,
   "metadata": {
    "colab": {},
    "colab_type": "code",
    "id": "yU2Me8CLyRNG"
   },
   "outputs": [],
   "source": [
    "from pathlib import Path\n",
    "\n",
    "train_dir = Path('./images/train')\n",
    "max_images = 1000\n",
    "\n",
    "for src_image in sorted(train_dir.iterdir())[:max_images]:\n",
    "    src_mask = Path('./masks/train') / Path(src_image.stem + '.png')\n",
    "    dst_mask = Path('./masks/val') / Path(src_image.stem + '.png')\n",
    "    dst_img = Path('./images/val') / Path(src_image.name)\n",
    "    src_image.replace(dst_img)\n",
    "    src_mask.replace(dst_mask)"
   ]
  },
  {
   "cell_type": "markdown",
   "metadata": {
    "colab_type": "text",
    "id": "4MsBY_G19fZF"
   },
   "source": [
    "## Imports and initial env settings"
   ]
  },
  {
   "cell_type": "code",
   "execution_count": null,
   "metadata": {
    "colab": {},
    "colab_type": "code",
    "id": "iz6ClMIQgvst"
   },
   "outputs": [],
   "source": [
    "import os\n",
    "from functools import partial\n",
    "\n",
    "try:\n",
    "  # %tensorflow_version only exists in Colab.\n",
    "  %tensorflow_version 1.x\n",
    "except Exception:\n",
    "    pass\n",
    "  \n",
    "import matplotlib.pyplot as plt\n",
    "import numpy as np\n",
    "import tensorflow as tf\n",
    "from tensorflow import keras\n"
   ]
  },
  {
   "cell_type": "code",
   "execution_count": null,
   "metadata": {
    "colab": {},
    "colab_type": "code",
    "id": "O_lXFVLNg9T6"
   },
   "outputs": [],
   "source": [
    "tf.enable_v2_behavior()"
   ]
  },
  {
   "cell_type": "code",
   "execution_count": null,
   "metadata": {
    "colab": {},
    "colab_type": "code",
    "id": "LzJuacwIgvs7"
   },
   "outputs": [],
   "source": [
    "DIRECTORY = './'\n",
    "IMAGES_PATH = './images/'\n",
    "MASKS_PATH = './masks/'\n",
    "TRAIN_SIZE = 10996\n",
    "VAL_SIZE = 1494\n",
    "BATCH_SIZE = 4\n",
    "IMG_SIZE = (512, 512)\n",
    "SEED = 111\n",
    "EPOCHS_FOR_FULL_TRAIN_PASS = 1\n",
    "\n",
    "np.random.seed(SEED)\n",
    "try:\n",
    "    tf.random.set_seed(SEED)\n",
    "except AttributeError:\n",
    "    tf.random.set_random_seed(SEED)"
   ]
  },
  {
   "cell_type": "markdown",
   "metadata": {
    "colab_type": "text",
    "id": "42U4DVBf9mW7"
   },
   "source": [
    "## Making generators for feeding models with data"
   ]
  },
  {
   "cell_type": "code",
   "execution_count": null,
   "metadata": {
    "colab": {
     "base_uri": "https://localhost:8080/",
     "height": 86
    },
    "colab_type": "code",
    "executionInfo": {
     "elapsed": 1034,
     "status": "ok",
     "timestamp": 1585181553941,
     "user": {
      "displayName": "Artemii Hrynevych",
      "photoUrl": "",
      "userId": "14959627850670217828"
     },
     "user_tz": -60
    },
    "id": "LCAVtCijz3Oo",
    "outputId": "ab74295c-9a8e-433f-eda9-0ad7ecad4c86"
   },
   "outputs": [],
   "source": [
    "# we create two instances with the same arguments\n",
    "data_gen_args = dict(\n",
    "    # width_shift_range=0.1,\n",
    "    # height_shift_range=0.1,\n",
    "    rotation_range=10,\n",
    "    # fill_mode='wrap',\n",
    "    zoom_range=[0.9, 1],\n",
    "    horizontal_flip=True,\n",
    "    vertical_flip=True,\n",
    ")\n",
    "image_datagen = keras.preprocessing.image.ImageDataGenerator(\n",
    "    **data_gen_args, rescale=1/255)\n",
    "mask_datagen = keras.preprocessing.image.ImageDataGenerator(\n",
    "    **data_gen_args, dtype=np.uint8)\n",
    "val_image_datagen = keras.preprocessing.image.ImageDataGenerator(rescale=1/255)\n",
    "val_mask_datagen = keras.preprocessing.image.ImageDataGenerator(dtype=np.uint8)\n",
    "\n",
    "# Provide the same seed and keyword arguments to the fit and flow methods\n",
    "flow_args = dict(\n",
    "    target_size=IMG_SIZE,\n",
    "    class_mode=None,\n",
    "    batch_size=BATCH_SIZE,\n",
    "    seed=SEED\n",
    ")\n",
    "\n",
    "train_image_generator = image_datagen.flow_from_directory(\n",
    "    IMAGES_PATH,\n",
    "    **flow_args,\n",
    "    classes=['train'],\n",
    "    color_mode='rgb',\n",
    ")\n",
    "\n",
    "train_mask_generator = mask_datagen.flow_from_directory(\n",
    "    MASKS_PATH,\n",
    "    **flow_args,\n",
    "    classes=['train'],\n",
    "    color_mode='grayscale',\n",
    ")\n",
    "\n",
    "val_image_generator = val_image_datagen.flow_from_directory(\n",
    "    IMAGES_PATH,\n",
    "    **flow_args,\n",
    "    classes=['val'],\n",
    "    color_mode='rgb',\n",
    ")\n",
    "\n",
    "val_mask_generator = val_mask_datagen.flow_from_directory(\n",
    "    MASKS_PATH,\n",
    "    **flow_args,\n",
    "    classes=['val'],\n",
    "    color_mode='grayscale',\n",
    ")\n",
    "\n",
    "# combine generators into one which yields image and masks\n",
    "def generator(images, masks):\n",
    "    while True:\n",
    "        yield (next(images), next(masks))\n",
    "\n",
    "train_generator = generator(train_image_generator, train_mask_generator)\n",
    "val_generator = generator(val_image_generator, val_mask_generator)"
   ]
  },
  {
   "cell_type": "code",
   "execution_count": null,
   "metadata": {
    "colab": {
     "base_uri": "https://localhost:8080/",
     "height": 941
    },
    "colab_type": "code",
    "executionInfo": {
     "elapsed": 1840,
     "status": "ok",
     "timestamp": 1585181554925,
     "user": {
      "displayName": "Artemii Hrynevych",
      "photoUrl": "",
      "userId": "14959627850670217828"
     },
     "user_tz": -60
    },
    "id": "MTrNLq0c1zXN",
    "outputId": "0a4729e7-7e01-4ac5-f5d2-48e2a9d318e5"
   },
   "outputs": [],
   "source": [
    "batch = next(val_generator)\n",
    "for img, mask in zip(batch[0], batch[1]):\n",
    "    plt.imshow(img)\n",
    "    plt.imshow(mask.reshape(IMG_SIZE), alpha=0.5)\n",
    "    plt.axis('off')\n",
    "    plt.show()\n"
   ]
  },
  {
   "cell_type": "markdown",
   "metadata": {
    "colab_type": "text",
    "id": "AmnJHj61nkUw"
   },
   "source": [
    "## FCN 8s model"
   ]
  },
  {
   "cell_type": "markdown",
   "metadata": {
    "colab_type": "text",
    "id": "q1vBVVtygvto"
   },
   "source": [
    "### Some partial functions to enter less code"
   ]
  },
  {
   "cell_type": "code",
   "execution_count": null,
   "metadata": {
    "colab": {},
    "colab_type": "code",
    "id": "L-qXpQvJgvtq"
   },
   "outputs": [],
   "source": [
    "DefaultMaxPool2D = partial(keras.layers.MaxPooling2D,\n",
    "                           padding='valid', pool_size=(2, 2), strides=(2, 2))\n",
    "DefaultConv2DTranspose = partial(keras.layers.Conv2DTranspose,\n",
    "                                 padding='valid',\n",
    "                                 kernel_size=(2, 2), strides=(2, 2))\n",
    "DefaultUpSampling2D = partial(keras.layers.UpSampling2D,\n",
    "                              size=(2, 2), data_format='channels_last',\n",
    "                              interpolation='bilinear')\n",
    "Default1x1Conv2d = partial(keras.layers.Conv2D, kernel_size=(1, 1))\n"
   ]
  },
  {
   "cell_type": "markdown",
   "metadata": {
    "colab_type": "text",
    "id": "NGVIbgWRgvtx"
   },
   "source": [
    "### Main building functions for u-net model and it's layers"
   ]
  },
  {
   "cell_type": "code",
   "execution_count": null,
   "metadata": {
    "colab": {},
    "colab_type": "code",
    "id": "lXn2Gylugvt1"
   },
   "outputs": [],
   "source": [
    "def conv2d_block(inputs, filters, kernel_size=(3, 3), n_layers=2, alpha=0.2,\n",
    "                 use_batch_norm=True, padding='same'):\n",
    "    for i in range(n_layers):\n",
    "        inputs = keras.layers.Conv2D(\n",
    "            filters, kernel_size, padding=padding)(inputs)\n",
    "        inputs = keras.layers.LeakyReLU(alpha=alpha)(inputs)\n",
    "        if use_batch_norm:\n",
    "            inputs = keras.layers.BatchNormalization()(inputs)\n",
    "    return inputs\n",
    "\n",
    "\n",
    "def downsample_block(inputs, filters, conv_params=None):\n",
    "    if conv_params is None:\n",
    "        conv_params = {}\n",
    "    conv_layer = conv2d_block(inputs, filters, **conv_params)\n",
    "    maxpool_layer = DefaultMaxPool2D()(conv_layer)\n",
    "    return conv_layer, maxpool_layer\n",
    "\n",
    "\n",
    "def upsample_block(filters, prev_layer, kernel_size=(2, 2), padding='same',\n",
    "                   upsampling_size=(2, 2)):\n",
    "    upsampling = DefaultUpSampling2D(size=upsampling_size)(prev_layer)\n",
    "    conv = keras.layers.Conv2D(\n",
    "        filters=filters, kernel_size=kernel_size, padding=padding)(upsampling)\n",
    "    return conv\n",
    "\n",
    "\n",
    "def fcn8s(input_shape=None, classes=2, use_sigmoid=True):\n",
    "    inputs = keras.layers.Input(shape=input_shape)\n",
    "\n",
    "    # downsampling stack\n",
    "    conv1, down1 = downsample_block(inputs, 64, conv_params={'n_layers': 2})\n",
    "    conv2, down2 = downsample_block(down1, 128, conv_params={'n_layers': 2})\n",
    "    conv3, down3 = downsample_block(down2, 256, conv_params={'n_layers': 3})\n",
    "    conv4, down4 = downsample_block(down3, 256, conv_params={'n_layers': 3})\n",
    "    conv5, down5 = downsample_block(down4, 256, conv_params={'n_layers': 3})\n",
    "\n",
    "    # bottleneck\n",
    "    conv6 = conv2d_block(down5, 4096, kernel_size=(1, 1), n_layers=1)\n",
    "    conv7 = conv2d_block(conv6, 4096, kernel_size=(1, 1), n_layers=1)\n",
    "    conv7_preds = Default1x1Conv2d(filters=classes)(conv7)\n",
    "\n",
    "    # upsampling stack\n",
    "    up1 = upsample_block(classes, conv7_preds)  # if upsampled x32 - FCN32s\n",
    "    down4_preds = keras.layers.Conv2D(\n",
    "        filters=classes, kernel_size=(1, 1))(down4)\n",
    "    add1 = keras.layers.Add()([up1, down4_preds])\n",
    "    add1_preds = Default1x1Conv2d(filters=classes)(add1)\n",
    "\n",
    "    up2 = upsample_block(classes, add1_preds)  # if upsampled x16 - FCN16s \n",
    "    down3_preds = keras.layers.Conv2D(\n",
    "        filters=classes, kernel_size=(1, 1))(down3)\n",
    "    add2 = keras.layers.Add()([up2, down3_preds])\n",
    "    add2_preds = Default1x1Conv2d(filters=classes)(add2)\n",
    "\n",
    "    last = upsample_block(classes, add2_preds, upsampling_size=(8, 8))\n",
    "\n",
    "    if classes == 2 and use_sigmoid:\n",
    "        outputs = keras.layers.Conv2D(\n",
    "            1, (1, 1), activation='sigmoid')(last)\n",
    "    else:\n",
    "        outputs = keras.layers.Conv2D(\n",
    "            classes, (1, 1), activation='softmax')(last)\n",
    "\n",
    "    model = keras.models.Model(inputs=inputs, outputs=outputs)\n",
    "    return model\n"
   ]
  },
  {
   "cell_type": "code",
   "execution_count": null,
   "metadata": {
    "colab": {},
    "colab_type": "code",
    "id": "re9Yb9C5gvuG"
   },
   "outputs": [],
   "source": [
    "m = tf.keras.metrics.MeanIoU(num_classes=2)\n",
    "def mean_iou(y_true, y_pred):\n",
    "    metric = m(y_true, tf.round(y_pred))\n",
    "    m.reset_states()\n",
    "    return metric\n",
    "\n",
    "\n",
    "def bce_dc_loss(y_true, y_pred):\n",
    "    \"\"\" Binary crossentropy + Dice Coef loss. \"\"\"\n",
    "\n",
    "    def dice_coef(y_true, y_pred, smooth=1):\n",
    "        \"\"\" Dice coef implementation.\n",
    "        \n",
    "        \"\"\"\n",
    "        numerator = 2 * keras.backend.sum(keras.backend.abs(y_true * y_pred), axis=-1)\n",
    "        denominator = (keras.backend.sum(keras.backend.square(y_true), -1) + keras.backend.sum(keras.backend.square(y_pred), -1))\n",
    "        return (numerator + smooth) / (denominator + smooth)\n",
    "\n",
    "    def dice_coef_loss(y_true, y_pred):\n",
    "        return 1 - dice_coef(y_true, y_pred)\n",
    "\n",
    "    return (keras.losses.binary_crossentropy(y_true, y_pred) +\n",
    "            dice_coef_loss(y_true, y_pred))\n",
    "    "
   ]
  },
  {
   "cell_type": "code",
   "execution_count": null,
   "metadata": {
    "colab": {
     "base_uri": "https://localhost:8080/",
     "height": 89
    },
    "colab_type": "code",
    "executionInfo": {
     "elapsed": 212639,
     "status": "ok",
     "timestamp": 1585175607324,
     "user": {
      "displayName": "Artemii Hrynevych",
      "photoUrl": "",
      "userId": "14959627850670217828"
     },
     "user_tz": -60
    },
    "id": "lSla6qdLgvuN",
    "outputId": "a6387019-bc98-4133-e31b-38874f38fce5"
   },
   "outputs": [],
   "source": [
    "model = fcn8s(input_shape=(None, None, 3))\n",
    "\n",
    "# model = keras.models.load_model(\n",
    "#     './drive/My Drive/model_checkpoints/fcn8s_015.hdf5', \n",
    "#     custom_objects={\n",
    "#         'mean_iou': mean_iou,\n",
    "#         'bce_dc_loss': bce_dc_loss,\n",
    "#     },\n",
    "# )\n",
    "\n",
    "model.compile(\n",
    "   optimizer=keras.optimizers.Adam(1e-3),\n",
    "   loss=bce_dc_loss,\n",
    "   metrics=[mean_iou],\n",
    ")\n",
    "\n",
    "model.summary()\n",
    "keras.utils.plot_model(model, show_shapes=True, to_file='fcn8s.png')"
   ]
  },
  {
   "cell_type": "code",
   "execution_count": null,
   "metadata": {
    "colab": {
     "base_uri": "https://localhost:8080/",
     "height": 930
    },
    "colab_type": "code",
    "executionInfo": {
     "elapsed": 219098,
     "status": "ok",
     "timestamp": 1585175616854,
     "user": {
      "displayName": "Artemii Hrynevych",
      "photoUrl": "",
      "userId": "14959627850670217828"
     },
     "user_tz": -60
    },
    "id": "qJuG9i7B1zNi",
    "outputId": "75309509-74b0-45e6-83ea-b334a6fc18d2"
   },
   "outputs": [],
   "source": [
    "# batch = next(val_generator)\n",
    "preds = model.predict(batch[0])\n",
    "# preds = tf.round(preds)\n",
    "print(mean_iou(batch[1], preds))\n",
    "# preds = tf.argmax(preds, axis=-1)\n",
    "for img, mask, pred in zip(batch[0], batch[1], preds):\n",
    "    fg, (ax1, ax2, ax3, ax4) = plt.subplots(nrows=1, ncols=4, figsize=(16, 4))\n",
    "    ax1.imshow(img)\n",
    "    ax1.set_title('Input')\n",
    "    ax1.axis('off')\n",
    "\n",
    "    ax2.imshow(pred.reshape(IMG_SIZE), cmap='inferno')\n",
    "    ax2.set_title('Pred raw')\n",
    "    ax2.axis('off')\n",
    "\n",
    "    ax3.imshow(img)\n",
    "    ax3.imshow(pred.reshape(IMG_SIZE).round(), alpha=0.6, cmap='inferno')\n",
    "    ax3.set_title('Pred class')\n",
    "    ax3.axis('off')\n",
    "\n",
    "    ax4.imshow(img)\n",
    "    ax4.imshow(mask.reshape(IMG_SIZE), alpha=0.6, cmap='inferno')\n",
    "    ax4.axis('off')\n",
    "    ax4.set_title('True')\n",
    "    plt.show()\n",
    "    "
   ]
  },
  {
   "cell_type": "markdown",
   "metadata": {
    "colab_type": "text",
    "id": "5WXPz9Okgvuc"
   },
   "source": [
    "## Training the model"
   ]
  },
  {
   "cell_type": "markdown",
   "metadata": {
    "colab_type": "text",
    "id": "sUyW7OIfgvuf"
   },
   "source": [
    "### Callbacks for model saving, scheduling learning rate, early stopping and logging to csv file."
   ]
  },
  {
   "cell_type": "code",
   "execution_count": null,
   "metadata": {
    "colab": {
     "base_uri": "https://localhost:8080/",
     "height": 34
    },
    "colab_type": "code",
    "executionInfo": {
     "elapsed": 180591,
     "status": "ok",
     "timestamp": 1585175616855,
     "user": {
      "displayName": "Artemii Hrynevych",
      "photoUrl": "",
      "userId": "14959627850670217828"
     },
     "user_tz": -60
    },
    "id": "-NBMRFL81zF3",
    "outputId": "509cf294-29a1-4734-99fb-3a76102e53e1"
   },
   "outputs": [],
   "source": [
    "csv_name = 'log_fcn8s.csv'\n",
    "if os.path.exists('/content/drive/'):\n",
    "    checkpoint_dir_path = os.path.join(\n",
    "        '/content/drive/My Drive/', 'model_checkpoints/')\n",
    "    csv_log_path = os.path.join('/content/drive/My Drive/', csv_name)\n",
    "else:\n",
    "    checkpoint_dir_path = os.path.join(\n",
    "        DIRECTORY, 'model_checkpoints/')\n",
    "    csv_log_path = os.path.join(DIRECTORY, csv_name)\n",
    "    \n",
    "\n",
    "checkpoint_name ='fcn8s_{epoch:03d}.hdf5'\n",
    "checkpoint_path = os.path.join(checkpoint_dir_path, checkpoint_name)\n",
    "\n",
    "try:\n",
    "    os.makedirs(checkpoint_dir_path)\n",
    "except FileExistsError:\n",
    "    print('Exists:', checkpoint_dir_path)\n",
    "\n",
    "\n",
    "checkpoint = keras.callbacks.ModelCheckpoint(\n",
    "    checkpoint_path, mode='auto',\n",
    "    # save_freq=(TRAIN_SIZE//BATCH_SIZE//EPOCHS_FOR_FULL_TRAIN_PASS)*BATCH_SIZE*EPOCHS_FOR_FULL_TRAIN_PASS,\n",
    "    # period=4,\n",
    "    verbose=0\n",
    "    )\n",
    "\n",
    "def decay_scheduler(decay=0.05, t=EPOCHS_FOR_FULL_TRAIN_PASS):\n",
    "    def schedule(epoch, lr):\n",
    "        if epoch > 0 and epoch % t == 0:\n",
    "            return lr * 1/(1 + decay * (epoch//t))\n",
    "        return lr\n",
    "    return schedule\n",
    "    \n",
    "lr_scheduler = keras.callbacks.LearningRateScheduler(\n",
    "    decay_scheduler(), verbose=0)\n",
    "\n",
    "reduce_lr = keras.callbacks.ReduceLROnPlateau(\n",
    "    monitor='val_loss', mode='min', factor=0.2,\n",
    "    patience=EPOCHS_FOR_FULL_TRAIN_PASS+1, min_lr=1e-7)\n",
    "\n",
    "early_stopping = keras.callbacks.EarlyStopping(\n",
    "    monitor='val_loss', patience=EPOCHS_FOR_FULL_TRAIN_PASS+2,\n",
    "    restore_best_weights=True)\n",
    "\n",
    "csv_logger = keras.callbacks.CSVLogger(\n",
    "    csv_log_path, separator=',', append=True)\n",
    "\n",
    "callbacks = [\n",
    "    # lr_scheduler,\n",
    "    reduce_lr,\n",
    "    early_stopping,\n",
    "    csv_logger,\n",
    "    checkpoint,\n",
    "]"
   ]
  },
  {
   "cell_type": "markdown",
   "metadata": {
    "colab_type": "text",
    "id": "Umi-U6Xrgvup"
   },
   "source": [
    "### So let the training begin!"
   ]
  },
  {
   "cell_type": "code",
   "execution_count": null,
   "metadata": {
    "colab": {},
    "colab_type": "code",
    "id": "0C9ofNMUzlPf"
   },
   "outputs": [],
   "source": [
    "def skip_epochs(generator, epochs=1, steps_per_epoch=None):\n",
    "    if steps_per_epoch is None:\n",
    "        steps_per_epoch = TRAIN_SIZE//BATCH_SIZE//EPOCHS_FOR_FULL_TRAIN_PASS\n",
    "    from tqdm import tqdm\n",
    "    for i in tqdm(range(epochs * steps_per_epoch)):\n",
    "        next(generator)\n",
    "        "
   ]
  },
  {
   "cell_type": "code",
   "execution_count": null,
   "metadata": {
    "colab": {
     "base_uri": "https://localhost:8080/",
     "height": 298
    },
    "colab_type": "code",
    "executionInfo": {
     "elapsed": 5067211,
     "status": "ok",
     "timestamp": 1585180684086,
     "user": {
      "displayName": "Artemii Hrynevych",
      "photoUrl": "",
      "userId": "14959627850670217828"
     },
     "user_tz": -60
    },
    "id": "3eImRQUQq_1U",
    "outputId": "421dc34b-9a29-4d05-e35f-8c09ad3c8fe4"
   },
   "outputs": [],
   "source": [
    "try:\n",
    "    train_history = model.fit_generator(\n",
    "        generator=train_generator,\n",
    "        validation_data=val_generator,\n",
    "        epochs=20,\n",
    "        steps_per_epoch=TRAIN_SIZE//BATCH_SIZE//EPOCHS_FOR_FULL_TRAIN_PASS,\n",
    "        validation_steps=VAL_SIZE//BATCH_SIZE,\n",
    "        callbacks=callbacks,\n",
    "        initial_epoch=15,\n",
    "    )\n",
    "except Exception as e:\n",
    "    import traceback\n",
    "    with open(DIRECTORY + 'error.txt', 'w') as file:\n",
    "        file.write('While training the network exception occured:')\n",
    "        file.write(traceback.format_exc())\n",
    "    raise e\n",
    "    "
   ]
  },
  {
   "cell_type": "markdown",
   "metadata": {
    "colab_type": "text",
    "id": "uowHPYQhgvuz"
   },
   "source": [
    "### And now let's see what we've got after the training."
   ]
  },
  {
   "cell_type": "code",
   "execution_count": null,
   "metadata": {
    "colab": {
     "base_uri": "https://localhost:8080/",
     "height": 1000,
     "output_embedded_package_id": "15ZJzIOhbGOE6M1wMYMD7tnupvGY7Asmc"
    },
    "colab_type": "code",
    "executionInfo": {
     "elapsed": 28036,
     "status": "ok",
     "timestamp": 1585151683511,
     "user": {
      "displayName": "Artemii Hrynevych",
      "photoUrl": "",
      "userId": "14959627850670217828"
     },
     "user_tz": -60
    },
    "id": "lbV0gMrogvu1",
    "outputId": "80b0b706-b400-429b-f855-cac240df3653"
   },
   "outputs": [],
   "source": [
    "n_iter = 4\n",
    "i = 0\n",
    "for _ in range(n_iter):\n",
    "    preds = model.predict(batch[0])\n",
    "    print(mean_iou(batch[1], preds))\n",
    "    for img, mask, pred in zip(batch[0], batch[1], preds):\n",
    "        \n",
    "        fg, (ax1, ax2, ax3, ax4, ax5) = plt.subplots(nrows=1, ncols=5, figsize=(20, 5))\n",
    "        ax1.imshow(img)\n",
    "        ax1.set_title('Input image')\n",
    "        ax1.axis('off')\n",
    "\n",
    "        ax2.imshow(pred.reshape(IMG_SIZE), cmap='inferno')\n",
    "        ax2.set_title('Predicted raw values')\n",
    "        ax2.axis('off')\n",
    "\n",
    "        ax3.imshow(img)\n",
    "        ax3.imshow(pred.reshape(IMG_SIZE).round(), alpha=0.6, cmap='inferno')\n",
    "        ax3.set_title('Predicted mask (rounded raw values)')\n",
    "        ax3.axis('off')\n",
    "\n",
    "\n",
    "        ax4.imshow(img)\n",
    "        ax4.imshow((pred.reshape(IMG_SIZE) > 0.25).astype(int), alpha=0.6, cmap='inferno')\n",
    "        ax4.set_title('Predicted mask (> 0.25)')\n",
    "        ax4.axis('off')\n",
    "\n",
    "        ax5.imshow(img)\n",
    "        ax5.imshow(mask.reshape(IMG_SIZE), alpha=0.6, cmap='inferno')\n",
    "        ax5.axis('off')\n",
    "        ax5.set_title('True mask')\n",
    "\n",
    "        plt.savefig(f'./batches/batch_visualisation_{i}.png')\n",
    "        i+=1\n",
    "        plt.show()\n",
    "        \n",
    "        batch = next(val_generator)\n",
    "    \n",
    "    "
   ]
  },
  {
   "cell_type": "code",
   "execution_count": null,
   "metadata": {
    "colab": {
     "base_uri": "https://localhost:8080/",
     "height": 1000,
     "output_embedded_package_id": "19NTe8bZKMLrFp1PdZBvuX3MXnuWclxKr"
    },
    "colab_type": "code",
    "executionInfo": {
     "elapsed": 10900,
     "status": "ok",
     "timestamp": 1585181255335,
     "user": {
      "displayName": "Artemii Hrynevych",
      "photoUrl": "",
      "userId": "14959627850670217828"
     },
     "user_tz": -60
    },
    "id": "Np0HcujCKDqD",
    "outputId": "68c35d01-dc7c-4389-f8e2-6315a2965558"
   },
   "outputs": [],
   "source": [
    "n_iter = 4\n",
    "i = 0\n",
    "for _ in range(n_iter):\n",
    "    preds = model.predict(batch[0])\n",
    "    print(mean_iou(batch[1], preds))\n",
    "    # preds = tf.round(preds)\n",
    "    # preds = tf.argmax(preds, axis=-1)\n",
    "    for img, mask, pred in zip(batch[0], batch[1], preds):\n",
    "        \n",
    "        fg, (ax1, ax2, ax3, ax4, ax5) = plt.subplots(nrows=1, ncols=5, figsize=(20, 5))\n",
    "        ax1.imshow(img)\n",
    "        ax1.set_title('Input image')\n",
    "        ax1.axis('off')\n",
    "\n",
    "        ax2.imshow(pred.reshape(IMG_SIZE), cmap='inferno')\n",
    "        ax2.set_title('Predicted raw values')\n",
    "        ax2.axis('off')\n",
    "\n",
    "        ax3.imshow(img)\n",
    "        ax3.imshow(pred.reshape(IMG_SIZE).round(), alpha=0.6, cmap='inferno')\n",
    "        ax3.set_title('Predicted mask (rounded raw values)')\n",
    "        ax3.axis('off')\n",
    "\n",
    "\n",
    "        ax4.imshow(img)\n",
    "        ax4.imshow((pred.reshape(IMG_SIZE) > 0.25).astype(int), alpha=0.6, cmap='inferno')\n",
    "        ax4.set_title('Predicted mask (> 0.25)')\n",
    "        ax4.axis('off')\n",
    "\n",
    "        ax5.imshow(img)\n",
    "        ax5.imshow(mask.reshape(IMG_SIZE), alpha=0.6, cmap='inferno')\n",
    "        ax5.axis('off')\n",
    "        ax5.set_title('True mask')\n",
    "\n",
    "        # plt.savefig(f'./batches/batch_visualisation_{i}.png')\n",
    "        i+=1\n",
    "        plt.show()\n",
    "        \n",
    "        batch = next(val_generator)\n",
    "    \n",
    "    "
   ]
  },
  {
   "cell_type": "code",
   "execution_count": null,
   "metadata": {
    "colab": {},
    "colab_type": "code",
    "id": "EijrTxWJK5cP"
   },
   "outputs": [],
   "source": []
  }
 ],
 "metadata": {
  "accelerator": "GPU",
  "colab": {
   "collapsed_sections": [],
   "machine_shape": "hm",
   "name": "find_ppl_fcn.ipynb",
   "provenance": [],
   "toc_visible": true
  },
  "kernelspec": {
   "display_name": "Python 3",
   "language": "python",
   "name": "python3"
  },
  "language_info": {
   "codemirror_mode": {
    "name": "ipython",
    "version": 3
   },
   "file_extension": ".py",
   "mimetype": "text/x-python",
   "name": "python",
   "nbconvert_exporter": "python",
   "pygments_lexer": "ipython3",
   "version": "3.7.7"
  },
  "varInspector": {
   "cols": {
    "lenName": 16,
    "lenType": 16,
    "lenVar": 40
   },
   "kernels_config": {
    "python": {
     "delete_cmd_postfix": "",
     "delete_cmd_prefix": "del ",
     "library": "var_list.py",
     "varRefreshCmd": "print(var_dic_list())"
    },
    "r": {
     "delete_cmd_postfix": ") ",
     "delete_cmd_prefix": "rm(",
     "library": "var_list.r",
     "varRefreshCmd": "cat(var_dic_list()) "
    }
   },
   "types_to_exclude": [
    "module",
    "function",
    "builtin_function_or_method",
    "instance",
    "_Feature"
   ],
   "window_display": false
  }
 },
 "nbformat": 4,
 "nbformat_minor": 1
}
