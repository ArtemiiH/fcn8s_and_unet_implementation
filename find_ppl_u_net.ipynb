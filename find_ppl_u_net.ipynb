{
 "cells": [
  {
   "cell_type": "markdown",
   "metadata": {
    "colab_type": "text",
    "id": "NzlBqV5UnZgL"
   },
   "source": [
    "# Find ppl"
   ]
  },
  {
   "cell_type": "markdown",
   "metadata": {
    "colab_type": "text",
    "id": "fJt0Sgp0iJlS"
   },
   "source": [
    "## Download data (for colab)"
   ]
  },
  {
   "cell_type": "code",
   "execution_count": null,
   "metadata": {
    "colab": {
     "base_uri": "https://localhost:8080/",
     "height": 124
    },
    "colab_type": "code",
    "executionInfo": {
     "elapsed": 33375,
     "status": "ok",
     "timestamp": 1585585405659,
     "user": {
      "displayName": "Artemii Hrynevych",
      "photoUrl": "",
      "userId": "14959627850670217828"
     },
     "user_tz": -120
    },
    "id": "_qJTAAuzgxJt",
    "outputId": "650c05a2-4dce-4d71-cb1d-f1d9533437fa"
   },
   "outputs": [],
   "source": [
    "# from google.colab import auth\n",
    "# auth.authenticate_user()\n",
    "from google.colab import drive\n",
    "drive.mount('/content/drive', force_remount=True)\n"
   ]
  },
  {
   "cell_type": "code",
   "execution_count": null,
   "metadata": {
    "colab": {
     "base_uri": "https://localhost:8080/",
     "height": 558
    },
    "colab_type": "code",
    "executionInfo": {
     "elapsed": 21739,
     "status": "ok",
     "timestamp": 1585585945080,
     "user": {
      "displayName": "Artemii Hrynevych",
      "photoUrl": "",
      "userId": "14959627850670217828"
     },
     "user_tz": -120
    },
    "id": "85paz6j8gyjw",
    "outputId": "a1782f59-7e80-41f0-bd63-aa471d479431"
   },
   "outputs": [],
   "source": [
    "!wget http://images.cocodataset.org/annotations/annotations_trainval2017.zip\n",
    "!unzip annotations_trainval2017.zip\n",
    "!rm annotations_trainval2017.zip\n",
    "!cp -r /content/drive/My\\ Drive/scripts ./scripts\n",
    "!python3 -m pip install aiofiles aiohttp pycocotools aiohttp[speedups] yarl==1.2.6\n"
   ]
  },
  {
   "cell_type": "code",
   "execution_count": null,
   "metadata": {
    "colab": {
     "base_uri": "https://localhost:8080/",
     "height": 295
    },
    "colab_type": "code",
    "executionInfo": {
     "elapsed": 155003,
     "status": "ok",
     "timestamp": 1585586103330,
     "user": {
      "displayName": "Artemii Hrynevych",
      "photoUrl": "",
      "userId": "14959627850670217828"
     },
     "user_tz": -120
    },
    "id": "RN8llXg_odF3",
    "outputId": "29179127-3ac2-4e13-9cb8-f5ac54ed15c2"
   },
   "outputs": [],
   "source": [
    "!python3 ./scripts/async_gather_data.py \\\n",
    "    --anns_path ./annotations/instances_train2017.json \\\n",
    "    --img_dst ./images/train \\\n",
    "    --mask_dst ./masks/train\n",
    "!python3 ./scripts/async_gather_data.py \\\n",
    "    --anns_path ./annotations/instances_val2017.json \\\n",
    "    --img_dst ./images/val \\\n",
    "    --mask_dst ./masks/val\n"
   ]
  },
  {
   "cell_type": "code",
   "execution_count": null,
   "metadata": {
    "colab": {
     "base_uri": "https://localhost:8080/",
     "height": 52
    },
    "colab_type": "code",
    "executionInfo": {
     "elapsed": 65720,
     "status": "ok",
     "timestamp": 1585585438023,
     "user": {
      "displayName": "Artemii Hrynevych",
      "photoUrl": "",
      "userId": "14959627850670217828"
     },
     "user_tz": -120
    },
    "id": "FZWvPEh6VhZZ",
    "outputId": "4b43b87b-a5c7-44ea-c0a2-38bff76a64b0"
   },
   "outputs": [],
   "source": [
    "!rm ./images/train/000000123473.jpg\n",
    "!rm ./masks/train/000000123473.png\n"
   ]
  },
  {
   "cell_type": "code",
   "execution_count": null,
   "metadata": {
    "colab": {},
    "colab_type": "code",
    "id": "pGLFJ1aVW5tK"
   },
   "outputs": [],
   "source": [
    "from pathlib import Path\n",
    "\n",
    "train_dir = Path('./images/train')\n",
    "max_images = 1000\n",
    "\n",
    "for src_image in sorted(train_dir.iterdir())[:max_images]:\n",
    "    src_mask = Path('./masks/train') / Path(src_image.stem + '.png')\n",
    "    dst_mask = Path('./masks/val') / Path(src_image.stem + '.png')\n",
    "    dst_img = Path('./images/val') / Path(src_image.name)\n",
    "    src_image.replace(dst_img)\n",
    "    src_mask.replace(dst_mask)\n",
    "    "
   ]
  },
  {
   "cell_type": "markdown",
   "metadata": {
    "colab_type": "text",
    "id": "4MsBY_G19fZF"
   },
   "source": [
    "## Imports and initial env settings"
   ]
  },
  {
   "cell_type": "code",
   "execution_count": null,
   "metadata": {
    "colab": {},
    "colab_type": "code",
    "id": "iz6ClMIQgvst"
   },
   "outputs": [],
   "source": [
    "import os\n",
    "from functools import partial\n",
    "from pathlib import Path\n",
    "\n",
    "try:\n",
    "  # %tensorflow_version only exists in Colab.\n",
    "  %tensorflow_version 1.x\n",
    "except Exception:\n",
    "    pass\n",
    "  \n",
    "import matplotlib.pyplot as plt\n",
    "import numpy as np\n",
    "import tensorflow as tf\n",
    "from tensorflow import keras\n"
   ]
  },
  {
   "cell_type": "code",
   "execution_count": null,
   "metadata": {
    "colab": {},
    "colab_type": "code",
    "id": "O_lXFVLNg9T6"
   },
   "outputs": [],
   "source": [
    "tf.enable_v2_behavior()\n"
   ]
  },
  {
   "cell_type": "code",
   "execution_count": null,
   "metadata": {
    "colab": {},
    "colab_type": "code",
    "id": "LzJuacwIgvs7"
   },
   "outputs": [],
   "source": [
    "DIRECTORY = './'\n",
    "IMAGES_PATH = './images/'\n",
    "MASKS_PATH = './masks/'\n",
    "TRAIN_SIZE = 10996\n",
    "VAL_SIZE = 1494\n",
    "BATCH_SIZE = 4\n",
    "IMG_SIZE = (512, 512)\n",
    "SEED = 111\n",
    "EPOCHS_FOR_FULL_TRAIN_PASS = 1\n",
    "\n",
    "np.random.seed(SEED)\n",
    "try:\n",
    "    tf.random.set_seed(SEED)\n",
    "except AttributeError:  # if tensorflow == 1.x\n",
    "    tf.random.set_random_seed(SEED)\n",
    "    "
   ]
  },
  {
   "cell_type": "markdown",
   "metadata": {
    "colab_type": "text",
    "id": "42U4DVBf9mW7"
   },
   "source": [
    "## Making generators for feeding models with data"
   ]
  },
  {
   "cell_type": "code",
   "execution_count": null,
   "metadata": {
    "colab": {
     "base_uri": "https://localhost:8080/",
     "height": 86
    },
    "colab_type": "code",
    "executionInfo": {
     "elapsed": 155791,
     "status": "ok",
     "timestamp": 1585161719330,
     "user": {
      "displayName": "Artemii Hrynevych",
      "photoUrl": "",
      "userId": "14959627850670217828"
     },
     "user_tz": -60
    },
    "id": "LCAVtCijz3Oo",
    "outputId": "424cc500-8f2e-4351-e97f-8da78d0dceb0"
   },
   "outputs": [],
   "source": [
    "# we create two instances with the same arguments\n",
    "data_gen_args = dict(\n",
    "    # width_shift_range=0.1,\n",
    "    # height_shift_range=0.1,\n",
    "    rotation_range=10,\n",
    "    # fill_mode='wrap',\n",
    "    zoom_range=[0.9, 1],\n",
    "    horizontal_flip=True,\n",
    "    vertical_flip=True,\n",
    ")\n",
    "image_datagen = keras.preprocessing.image.ImageDataGenerator(\n",
    "    **data_gen_args, rescale=1/255)\n",
    "mask_datagen = keras.preprocessing.image.ImageDataGenerator(\n",
    "    **data_gen_args, dtype=np.uint8)\n",
    "val_image_datagen = keras.preprocessing.image.ImageDataGenerator(rescale=1/255)\n",
    "val_mask_datagen = keras.preprocessing.image.ImageDataGenerator(dtype=np.uint8)\n",
    "\n",
    "# Provide the same seed and keyword arguments to the fit and flow methods\n",
    "flow_args = dict(\n",
    "    target_size=IMG_SIZE,\n",
    "    class_mode=None,\n",
    "    batch_size=BATCH_SIZE,\n",
    "    seed=SEED\n",
    ")\n",
    "\n",
    "train_image_generator = image_datagen.flow_from_directory(\n",
    "    IMAGES_PATH,\n",
    "    **flow_args,\n",
    "    classes=['train'],\n",
    "    color_mode='rgb',\n",
    ")\n",
    "\n",
    "train_mask_generator = mask_datagen.flow_from_directory(\n",
    "    MASKS_PATH,\n",
    "    **flow_args,\n",
    "    classes=['train'],\n",
    "    color_mode='grayscale',\n",
    ")\n",
    "\n",
    "val_image_generator = val_image_datagen.flow_from_directory(\n",
    "    IMAGES_PATH,\n",
    "    **flow_args,\n",
    "    classes=['val'],\n",
    "    color_mode='rgb',\n",
    ")\n",
    "\n",
    "val_mask_generator = val_mask_datagen.flow_from_directory(\n",
    "    MASKS_PATH,\n",
    "    **flow_args,\n",
    "    classes=['val'],\n",
    "    color_mode='grayscale',\n",
    ")\n",
    "\n",
    "# combine generators into one which yields image and masks\n",
    "def generator(images, masks):\n",
    "    while True:\n",
    "        yield (next(images), next(masks))\n",
    "\n",
    "train_generator = generator(train_image_generator, train_mask_generator)\n",
    "val_generator = generator(val_image_generator, val_mask_generator)\n"
   ]
  },
  {
   "cell_type": "code",
   "execution_count": null,
   "metadata": {
    "colab": {
     "base_uri": "https://localhost:8080/",
     "height": 941
    },
    "colab_type": "code",
    "executionInfo": {
     "elapsed": 3196,
     "status": "ok",
     "timestamp": 1585151303607,
     "user": {
      "displayName": "Artemii Hrynevych",
      "photoUrl": "",
      "userId": "14959627850670217828"
     },
     "user_tz": -60
    },
    "id": "MTrNLq0c1zXN",
    "outputId": "ca800afe-dab6-4089-bba8-fd298e3b346c"
   },
   "outputs": [],
   "source": [
    "batch = next(val_generator)\n",
    "for img, mask in zip(batch[0], batch[1]):\n",
    "    plt.imshow(img)\n",
    "    plt.imshow(mask.reshape(IMG_SIZE), alpha=0.3)\n",
    "    plt.axis('off')\n",
    "    plt.show()\n"
   ]
  },
  {
   "cell_type": "markdown",
   "metadata": {
    "colab_type": "text",
    "id": "AmnJHj61nkUw"
   },
   "source": [
    "## U-net model"
   ]
  },
  {
   "cell_type": "markdown",
   "metadata": {
    "colab_type": "text",
    "id": "q1vBVVtygvto"
   },
   "source": [
    "### Some partial functions to enter less code"
   ]
  },
  {
   "cell_type": "code",
   "execution_count": null,
   "metadata": {
    "colab": {},
    "colab_type": "code",
    "id": "L-qXpQvJgvtq"
   },
   "outputs": [],
   "source": [
    "DefaultMaxPool2D = partial(keras.layers.MaxPooling2D,\n",
    "                           padding='valid', pool_size=(2, 2), strides=(2, 2))\n",
    "DefaultConv2DTranspose = partial(keras.layers.Conv2DTranspose,\n",
    "                                 padding='valid',\n",
    "                                 kernel_size=(2, 2), strides=(2, 2))\n",
    "DefaultUpSampling2D = partial(keras.layers.UpSampling2D,\n",
    "                              size=(2, 2), data_format='channels_last',\n",
    "                              interpolation='bilinear')\n"
   ]
  },
  {
   "cell_type": "markdown",
   "metadata": {
    "colab_type": "text",
    "id": "NGVIbgWRgvtx"
   },
   "source": [
    "### Main building functions for u-net model and it's layers"
   ]
  },
  {
   "cell_type": "code",
   "execution_count": null,
   "metadata": {
    "colab": {},
    "colab_type": "code",
    "id": "lXn2Gylugvt1"
   },
   "outputs": [],
   "source": [
    "def conv2d_block(inputs, filters, kernel_size=(3, 3), n_layers=2, alpha=0.2,\n",
    "                 use_batch_norm=True, padding='same'):\n",
    "    for i in range(n_layers):\n",
    "        inputs = keras.layers.Conv2D(\n",
    "            filters, kernel_size, padding=padding)(inputs)\n",
    "        inputs = keras.layers.LeakyReLU(alpha=alpha)(inputs)\n",
    "        if use_batch_norm:\n",
    "            inputs = keras.layers.BatchNormalization()(inputs)\n",
    "    return inputs\n",
    "\n",
    "def upsample_block(inputs, filters, concat, kernel_size=(2, 2), strides=(2, 2),\n",
    "                   alpha=0.3, padding='valid', use_transposed_conv=False,\n",
    "                   conv_params=None):\n",
    "    if conv_params is None:\n",
    "        conv_params = {'filters': 2 * filters}\n",
    "    conv_layer = conv2d_block(inputs, **conv_params)\n",
    "    if use_transposed_conv:\n",
    "        up_layer = DefaultConv2DTranspose(\n",
    "            filters=filters, kernel_size=kernel_size)(conv_layer)\n",
    "    else:\n",
    "        up_layer = DefaultUpSampling2D(size=kernel_size)(conv_layer)\n",
    "        up_layer = keras.layers.Conv2D(\n",
    "            filters=filters, kernel_size=kernel_size, padding='same')(up_layer)\n",
    "    activation = keras.layers.LeakyReLU(alpha=alpha)(up_layer)\n",
    "    concat_layer = keras.layers.Concatenate(axis=-1)([concat, activation])\n",
    "    return concat_layer\n",
    "\n",
    "def downsample_block(inputs, filters, conv_params=None):\n",
    "    if conv_params is None:\n",
    "        conv_params = {}\n",
    "    conv_layer = conv2d_block(inputs, filters, **conv_params)\n",
    "    maxpool_layer = DefaultMaxPool2D()(conv_layer)\n",
    "    return conv_layer, maxpool_layer\n",
    "\n",
    "def unet(input_shape=None, classes=2, use_sigmoid=True):\n",
    "    inputs = keras.layers.Input(shape=input_shape)\n",
    "\n",
    "    # downsampling stack\n",
    "    conv1, down1 = downsample_block(inputs, 64)\n",
    "    conv2, down2 = downsample_block(down1, 128)\n",
    "    conv3, down3 = downsample_block(down2, 256)\n",
    "    conv4, down4 = downsample_block(down3, 512)\n",
    "\n",
    "    # upsampling stack\n",
    "    up1 = upsample_block(down4, 512, conv4)\n",
    "    up2 = upsample_block(up1, 256, conv3)\n",
    "    up3 = upsample_block(up2, 128, conv2)\n",
    "    up4 = upsample_block(up3, 64, conv1)\n",
    "    \n",
    "    conv_block_last = conv2d_block(up4, 64)\n",
    "    if classes == 2 and use_sigmoid:\n",
    "        outputs = keras.layers.Conv2D(\n",
    "            1, (1, 1), activation='sigmoid')(conv_block_last)\n",
    "    else:\n",
    "        outputs = keras.layers.Conv2D(\n",
    "            classes, (1, 1), activation='softmax')(conv_block_last)\n",
    "\n",
    "    model = keras.models.Model(inputs=inputs, outputs=outputs)\n",
    "    return model\n"
   ]
  },
  {
   "cell_type": "code",
   "execution_count": null,
   "metadata": {
    "colab": {},
    "colab_type": "code",
    "id": "re9Yb9C5gvuG"
   },
   "outputs": [],
   "source": [
    "m = tf.keras.metrics.MeanIoU(num_classes=2)\n",
    "def mean_iou(y_true, y_pred):\n",
    "    metric = m(y_true, tf.round(y_pred))\n",
    "    m.reset_states()\n",
    "    return metric\n",
    "\n",
    "\n",
    "def bce_dc_loss(y_true, y_pred):\n",
    "    \"\"\" Binary crossentropy + Dice Coef loss. \"\"\"\n",
    "\n",
    "    def dice_coef(y_true, y_pred, smooth=1):\n",
    "        \"\"\" Dice coef implementation.\n",
    "        \n",
    "        \"\"\"\n",
    "        numerator = 2 * keras.backend.sum(keras.backend.abs(y_true * y_pred), axis=-1)\n",
    "        denominator = (keras.backend.sum(keras.backend.square(y_true), -1) + keras.backend.sum(keras.backend.square(y_pred), -1))\n",
    "        return (numerator + smooth) / (denominator + smooth)\n",
    "\n",
    "    def dice_coef_loss(y_true, y_pred):\n",
    "        return 1 - dice_coef(y_true, y_pred)\n",
    "\n",
    "    return (keras.losses.binary_crossentropy(y_true, y_pred) +\n",
    "            dice_coef_loss(y_true, y_pred))\n",
    "    "
   ]
  },
  {
   "cell_type": "code",
   "execution_count": null,
   "metadata": {
    "colab": {
     "base_uri": "https://localhost:8080/",
     "height": 89
    },
    "colab_type": "code",
    "executionInfo": {
     "elapsed": 9348,
     "status": "ok",
     "timestamp": 1585161735445,
     "user": {
      "displayName": "Artemii Hrynevych",
      "photoUrl": "",
      "userId": "14959627850670217828"
     },
     "user_tz": -60
    },
    "id": "lSla6qdLgvuN",
    "outputId": "69417a0a-ea91-4aa8-daac-70183288d18f"
   },
   "outputs": [],
   "source": [
    "model = unet(input_shape=(None, None, 3))\n",
    "\n",
    "# model = keras.models.load_model(\n",
    "#     './drive/My Drive/model_checkpoints/unet_015.hdf5', \n",
    "#     custom_objects={\n",
    "#         'bce_dc_loss': bce_dc_loss,\n",
    "#         'mean_iou': mean_iou,\n",
    "#     },\n",
    "# )\n",
    "\n",
    "model.compile(\n",
    "   optimizer=keras.optimizers.Adam(1e-3),\n",
    "   loss=bce_dc_loss,\n",
    "#    loss=keras.losses.binary_crossentropy,\n",
    "   metrics=[mean_iou],\n",
    ")\n",
    "\n",
    "model.summary()\n",
    "keras.utils.plot_model(model, show_shapes=True, to_file='unet.png')\n"
   ]
  },
  {
   "cell_type": "code",
   "execution_count": null,
   "metadata": {
    "colab": {
     "base_uri": "https://localhost:8080/",
     "height": 234
    },
    "colab_type": "code",
    "executionInfo": {
     "elapsed": 11256,
     "status": "error",
     "timestamp": 1585161737375,
     "user": {
      "displayName": "Artemii Hrynevych",
      "photoUrl": "",
      "userId": "14959627850670217828"
     },
     "user_tz": -60
    },
    "id": "qJuG9i7B1zNi",
    "outputId": "068bb0d6-b001-4e78-d082-a4f2d3524c72"
   },
   "outputs": [],
   "source": [
    "preds = model.predict(batch[0])\n",
    "print(mean_iou(batch[1], preds))\n",
    "for img, mask, pred in zip(batch[0], batch[1], preds):\n",
    "    fg, (ax1, ax2, ax3, ax4) = plt.subplots(nrows=1, ncols=4, figsize=(16, 4))\n",
    "    ax1.imshow(img)\n",
    "    ax1.set_title('Input image')\n",
    "    ax1.axis('off')\n",
    "\n",
    "    ax2.imshow(pred.reshape(IMG_SIZE), cmap='inferno')\n",
    "    ax2.set_title('Predicted raw values')\n",
    "    ax2.axis('off')\n",
    "\n",
    "    ax3.imshow(img)\n",
    "    ax3.imshow(pred.reshape(IMG_SIZE).round(), alpha=0.6, cmap='inferno')\n",
    "    ax3.set_title('Predicted mask (rounded raw values)')\n",
    "    ax3.axis('off')\n",
    "\n",
    "    ax4.imshow(img)\n",
    "    ax4.imshow(mask.reshape(IMG_SIZE), alpha=0.6, cmap='inferno')\n",
    "    ax4.axis('off')\n",
    "    ax4.set_title('True mask')\n",
    "\n",
    "    plt.show()\n",
    "    "
   ]
  },
  {
   "cell_type": "markdown",
   "metadata": {
    "colab_type": "text",
    "id": "5WXPz9Okgvuc"
   },
   "source": [
    "## Training the model"
   ]
  },
  {
   "cell_type": "markdown",
   "metadata": {
    "colab_type": "text",
    "id": "sUyW7OIfgvuf"
   },
   "source": [
    "### Callbacks for model saving, scheduling learning rate, early stopping and logging to csv file."
   ]
  },
  {
   "cell_type": "code",
   "execution_count": null,
   "metadata": {
    "colab": {
     "base_uri": "https://localhost:8080/",
     "height": 34
    },
    "colab_type": "code",
    "executionInfo": {
     "elapsed": 808,
     "status": "ok",
     "timestamp": 1585161738196,
     "user": {
      "displayName": "Artemii Hrynevych",
      "photoUrl": "",
      "userId": "14959627850670217828"
     },
     "user_tz": -60
    },
    "id": "-NBMRFL81zF3",
    "outputId": "c918e133-6acd-4bb0-8c38-67c3b9db8b14"
   },
   "outputs": [],
   "source": [
    "csv_name = 'log_unet.csv'\n",
    "if os.path.exists('/content/drive/'):\n",
    "    checkpoint_dir_path = os.path.join(\n",
    "        '/content/drive/My Drive/', 'model_checkpoints/')\n",
    "    csv_log_path = os.path.join('/content/drive/My Drive/', csv_name)\n",
    "else:\n",
    "    checkpoint_dir_path = os.path.join(\n",
    "        DIRECTORY, 'model_checkpoints/')\n",
    "    csv_log_path = os.path.join(DIRECTORY, csv_name)\n",
    "    \n",
    "\n",
    "checkpoint_name ='unet_{epoch:03d}.hdf5'\n",
    "checkpoint_path = os.path.join(checkpoint_dir_path, checkpoint_name)\n",
    "\n",
    "try:\n",
    "    os.makedirs(checkpoint_dir_path)\n",
    "except FileExistsError:\n",
    "    print('Exists:', checkpoint_dir_path)\n",
    "\n",
    "\n",
    "checkpoint = keras.callbacks.ModelCheckpoint(\n",
    "    checkpoint_path, mode='auto',\n",
    "    # save_freq=(TRAIN_SIZE//BATCH_SIZE//EPOCHS_FOR_FULL_TRAIN_PASS)*BATCH_SIZE*EPOCHS_FOR_FULL_TRAIN_PASS,\n",
    "    # period=4,\n",
    "    verbose=0\n",
    "    )\n",
    "\n",
    "reduce_lr = keras.callbacks.ReduceLROnPlateau(\n",
    "    monitor='val_loss', mode='min', factor=0.2,\n",
    "    patience=EPOCHS_FOR_FULL_TRAIN_PASS+1, min_lr=1e-7)\n",
    "\n",
    "early_stopping = keras.callbacks.EarlyStopping(\n",
    "    monitor='val_loss', patience=EPOCHS_FOR_FULL_TRAIN_PASS+3,\n",
    "    restore_best_weights=True)\n",
    "\n",
    "csv_logger = keras.callbacks.CSVLogger(\n",
    "    csv_log_path, separator=',', append=True)\n",
    "\n",
    "callbacks = [\n",
    "    reduce_lr,\n",
    "    early_stopping,\n",
    "    csv_logger,\n",
    "    checkpoint,\n",
    "]\n"
   ]
  },
  {
   "cell_type": "code",
   "execution_count": null,
   "metadata": {
    "colab": {},
    "colab_type": "code",
    "id": "0C9ofNMUzlPf"
   },
   "outputs": [],
   "source": [
    "def skip_epochs(generator, epochs=1, steps_per_epoch=None):\n",
    "    if steps_per_epoch is None:\n",
    "        steps_per_epoch = TRAIN_SIZE//BATCH_SIZE//EPOCHS_FOR_FULL_TRAIN_PASS\n",
    "    from tqdm import tqdm\n",
    "    for i in tqdm(range(epochs * steps_per_epoch)):\n",
    "        next(generator)\n",
    "        "
   ]
  },
  {
   "cell_type": "markdown",
   "metadata": {
    "colab_type": "text",
    "id": "Umi-U6Xrgvup"
   },
   "source": [
    "### So let the training begin!"
   ]
  },
  {
   "cell_type": "code",
   "execution_count": null,
   "metadata": {
    "colab": {
     "base_uri": "https://localhost:8080/",
     "height": 298
    },
    "colab_type": "code",
    "executionInfo": {
     "elapsed": 12138049,
     "status": "ok",
     "timestamp": 1585174095817,
     "user": {
      "displayName": "Artemii Hrynevych",
      "photoUrl": "",
      "userId": "14959627850670217828"
     },
     "user_tz": -60
    },
    "id": "3eImRQUQq_1U",
    "outputId": "f06b6d9e-e5cc-4487-aa7f-4f4e6a8b793c"
   },
   "outputs": [],
   "source": [
    "try:\n",
    "    train_history = model.fit_generator(\n",
    "        generator=train_generator,\n",
    "        validation_data=val_generator,\n",
    "        epochs=20,\n",
    "        steps_per_epoch=TRAIN_SIZE//BATCH_SIZE//EPOCHS_FOR_FULL_TRAIN_PASS,\n",
    "        validation_steps=VAL_SIZE//BATCH_SIZE,\n",
    "        callbacks=callbacks,\n",
    "        initial_epoch=0,\n",
    "    )\n",
    "except Exception as e:\n",
    "    import traceback\n",
    "    with open(DIRECTORY + 'error.txt', 'w') as file:\n",
    "        file.write('While training the network exception occured:')\n",
    "        file.write(traceback.format_exc())\n",
    "    raise e\n",
    "    "
   ]
  },
  {
   "cell_type": "markdown",
   "metadata": {
    "colab_type": "text",
    "id": "uowHPYQhgvuz"
   },
   "source": [
    "### And now let's see what we've got after the training."
   ]
  },
  {
   "cell_type": "code",
   "execution_count": null,
   "metadata": {
    "colab": {
     "base_uri": "https://localhost:8080/",
     "height": 1000,
     "output_embedded_package_id": "1ld_jbw3tN9GdRbSHWpB55YFSeXh2CJly"
    },
    "colab_type": "code",
    "executionInfo": {
     "elapsed": 88156,
     "status": "ok",
     "timestamp": 1585151395487,
     "user": {
      "displayName": "Artemii Hrynevych",
      "photoUrl": "",
      "userId": "14959627850670217828"
     },
     "user_tz": -60
    },
    "id": "lbV0gMrogvu1",
    "outputId": "b47020aa-416c-41b9-b526-494638edf66a"
   },
   "outputs": [],
   "source": [
    "n_iter = 4\n",
    "i = 0\n",
    "for _ in range(n_iter):\n",
    "    preds = model.predict(batch[0])\n",
    "    print(mean_iou(batch[1], preds))\n",
    "    for img, mask, pred in zip(batch[0], batch[1], preds):\n",
    "        \n",
    "        fg, (ax1, ax2, ax3, ax4, ax5) = plt.subplots(nrows=1, ncols=5, figsize=(20, 5))\n",
    "        ax1.imshow(img)\n",
    "        ax1.set_title('Input image')\n",
    "        ax1.axis('off')\n",
    "\n",
    "        ax2.imshow(pred.reshape(IMG_SIZE), cmap='inferno')\n",
    "        ax2.set_title('Predicted raw values')\n",
    "        ax2.axis('off')\n",
    "\n",
    "        ax3.imshow(img)\n",
    "        ax3.imshow(pred.reshape(IMG_SIZE).round(), alpha=0.6, cmap='inferno')\n",
    "        ax3.set_title('Predicted mask (rounded raw values)')\n",
    "        ax3.axis('off')\n",
    "\n",
    "\n",
    "        ax4.imshow(img)\n",
    "        ax4.imshow((pred.reshape(IMG_SIZE) > 0.25).astype(int), alpha=0.6, cmap='inferno')\n",
    "        ax4.set_title('Predicted mask (> 0.25)')\n",
    "        ax4.axis('off')\n",
    "\n",
    "        ax5.imshow(img)\n",
    "        ax5.imshow(mask.reshape(IMG_SIZE), alpha=0.6, cmap='inferno')\n",
    "        ax5.axis('off')\n",
    "        ax5.set_title('True mask')\n",
    "\n",
    "        plt.savefig(f'./batches/batch_visualisation_{i}.png')\n",
    "        i+=1\n",
    "        plt.show()\n",
    "        \n",
    "        batch = next(val_generator)\n",
    "    "
   ]
  },
  {
   "cell_type": "code",
   "execution_count": null,
   "metadata": {
    "colab": {},
    "colab_type": "code",
    "id": "l_fs9OxBdGqZ"
   },
   "outputs": [],
   "source": []
  }
 ],
 "metadata": {
  "colab": {
   "collapsed_sections": [],
   "machine_shape": "hm",
   "name": "find_ppl_u_net.ipynb",
   "provenance": [],
   "toc_visible": true
  },
  "kernelspec": {
   "display_name": "Python 3",
   "language": "python",
   "name": "python3"
  },
  "language_info": {
   "codemirror_mode": {
    "name": "ipython",
    "version": 3
   },
   "file_extension": ".py",
   "mimetype": "text/x-python",
   "name": "python",
   "nbconvert_exporter": "python",
   "pygments_lexer": "ipython3",
   "version": "3.7.7"
  },
  "varInspector": {
   "cols": {
    "lenName": 16,
    "lenType": 16,
    "lenVar": 40
   },
   "kernels_config": {
    "python": {
     "delete_cmd_postfix": "",
     "delete_cmd_prefix": "del ",
     "library": "var_list.py",
     "varRefreshCmd": "print(var_dic_list())"
    },
    "r": {
     "delete_cmd_postfix": ") ",
     "delete_cmd_prefix": "rm(",
     "library": "var_list.r",
     "varRefreshCmd": "cat(var_dic_list()) "
    }
   },
   "types_to_exclude": [
    "module",
    "function",
    "builtin_function_or_method",
    "instance",
    "_Feature"
   ],
   "window_display": false
  }
 },
 "nbformat": 4,
 "nbformat_minor": 1
}
